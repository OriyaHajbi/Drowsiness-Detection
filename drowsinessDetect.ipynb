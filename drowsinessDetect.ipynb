{
 "cells": [
  {
   "cell_type": "code",
   "execution_count": 22,
   "id": "ee5f9f2a",
   "metadata": {},
   "outputs": [],
   "source": [
    "from scipy.spatial import distance as dist\n",
    "import imutils\n",
    "from imutils.video import VideoStream\n",
    "from imutils import face_utils\n",
    "from threading import Thread\n",
    "import numpy as np\n",
    "import argparse\n",
    "import playsound\n",
    "import time\n",
    "import dlib\n",
    "import cv2\n",
    "import os"
   ]
  },
  {
   "cell_type": "code",
   "execution_count": 23,
   "id": "8b2f4fac",
   "metadata": {},
   "outputs": [],
   "source": [
    "def alarm(msg):\n",
    "    global alarm_status\n",
    "    global alarm_status2\n",
    "    global saying\n",
    "\n",
    "    while alarm_status:\n",
    "        print('call')\n",
    "        s = 'espeak \"'+msg+'\"'\n",
    "        os.system(s)\n",
    "\n",
    "    if alarm_status2:\n",
    "        print('call')\n",
    "        saying = True\n",
    "        s = 'espeak \"' + msg + '\"'\n",
    "        os.system(s)\n",
    "        saying = False"
   ]
  },
  {
   "cell_type": "code",
   "execution_count": 24,
   "id": "20a29f17",
   "metadata": {},
   "outputs": [],
   "source": [
    "def sound_alarm(path):\n",
    "    # play an alarm sound\n",
    "    #if playsound.\n",
    "    playsound.playsound(path)"
   ]
  },
  {
   "cell_type": "code",
   "execution_count": 25,
   "id": "d20a2693",
   "metadata": {},
   "outputs": [],
   "source": [
    "def eye_aspect_ratio(eye):\n",
    "    A = dist.euclidean(eye[1], eye[5])\n",
    "    B = dist.euclidean(eye[2], eye[4])\n",
    "\n",
    "    C = dist.euclidean(eye[0], eye[3])\n",
    "\n",
    "    ear = (A + B) / (2.0 * C)\n",
    "\n",
    "    return ear\n"
   ]
  },
  {
   "cell_type": "code",
   "execution_count": 26,
   "id": "ee1ec7d6",
   "metadata": {},
   "outputs": [],
   "source": [
    "def final_ear(shape):\n",
    "    (lStart, lEnd) = face_utils.FACIAL_LANDMARKS_IDXS[\"left_eye\"]\n",
    "    (rStart, rEnd) = face_utils.FACIAL_LANDMARKS_IDXS[\"right_eye\"]\n",
    "\n",
    "    leftEye = shape[lStart:lEnd]\n",
    "    rightEye = shape[rStart:rEnd]\n",
    "\n",
    "    leftEAR = eye_aspect_ratio(leftEye)\n",
    "    rightEAR = eye_aspect_ratio(rightEye)\n",
    "\n",
    "    ear = (leftEAR + rightEAR) / 2.0\n",
    "    return (ear, leftEye, rightEye)\n"
   ]
  },
  {
   "cell_type": "code",
   "execution_count": 27,
   "id": "af2d0034",
   "metadata": {},
   "outputs": [],
   "source": [
    "def mouth_aspect_ratio(mouth):\n",
    "    # compute the euclidean distances between the two sets of\n",
    "    # vertical mouth landmarks (x, y)-coordinates\n",
    "    A = dist.euclidean(mouth[2], mouth[10]) # 51, 59\n",
    "    B = dist.euclidean(mouth[4], mouth[8]) # 53, 57\n",
    "    # compute the euclidean distance between the horizontal\n",
    "    # mouth landmark (x, y)-coordinates\n",
    "    C = dist.euclidean(mouth[0], mouth[6]) # 49, 55\n",
    "    # compute the mouth aspect ratio\n",
    "    mar = (A + B) / (2.0 * C)\n",
    "    # return the mouth aspect ratio\n",
    "    return mar"
   ]
  },
  {
   "cell_type": "code",
   "execution_count": 28,
   "id": "18557fad",
   "metadata": {},
   "outputs": [],
   "source": [
    "def lip_distance(shape):\n",
    "    top_lip = shape[50:53]\n",
    "    top_lip = np.concatenate((top_lip, shape[61:64]))\n",
    "\n",
    "    low_lip = shape[56:59]\n",
    "    low_lip = np.concatenate((low_lip, shape[65:68]))\n",
    "\n",
    "    top_mean = np.mean(top_lip, axis=0)\n",
    "    low_mean = np.mean(low_lip, axis=0)\n",
    "\n",
    "    distance = abs(top_mean[1] - low_mean[1])\n",
    "    return distance\n"
   ]
  },
  {
   "cell_type": "code",
   "execution_count": 45,
   "id": "64393b76",
   "metadata": {},
   "outputs": [],
   "source": [
    "EYE_AR_THRESH = 0.30\n",
    "EYE_AR_CONSEC_FRAMES = 48\n",
    "MOUTH_AR_CONSEC_FRAMES = 48\n",
    "MOUTH_AR_THRESH = 0.65\n",
    "YAWN_THRESH = 20\n",
    "alarm_status = False\n",
    "alarm_status2 = False\n",
    "saying = False\n",
    "eCounter = 0\n",
    "mCounter = 0"
   ]
  },
  {
   "cell_type": "code",
   "execution_count": 46,
   "id": "433e9fe5",
   "metadata": {},
   "outputs": [
    {
     "name": "stdout",
     "output_type": "stream",
     "text": [
      "[INFO] loading facial landmark predictor...\n",
      "[INFO] starting video stream thread...\n"
     ]
    }
   ],
   "source": [
    "print(\"[INFO] loading facial landmark predictor...\")\n",
    "detector = cv2.CascadeClassifier(\"haarcascade_frontalface_default.xml\")    #Faster but less accurate\n",
    "predictor = dlib.shape_predictor(\"shape_predictor_68_face_landmarks.dat\")\n",
    "\n",
    "\n",
    "# start the video stream thread\n",
    "print(\"[INFO] starting video stream thread...\")\n",
    "vs = VideoStream(src=0).start()\n",
    "time.sleep(1.0)"
   ]
  },
  {
   "cell_type": "code",
   "execution_count": 47,
   "id": "889a5ef3",
   "metadata": {},
   "outputs": [],
   "source": [
    "while True:\n",
    "\n",
    "    frame = vs.read()\n",
    "    frame = imutils.resize(frame, width=450)\n",
    "    gray = cv2.cvtColor(frame, cv2.COLOR_BGR2GRAY)\n",
    "\n",
    "    #rects = detector(gray, 0)\n",
    "    rects = detector.detectMultiScale(gray, scaleFactor=1.1,minNeighbors=5, minSize=(30, 30),flags=cv2.CASCADE_SCALE_IMAGE)\n",
    "\n",
    "    #for rect in rects:\n",
    "    for (x, y, w, h) in rects:\n",
    "        rect = dlib.rectangle(int(x), int(y), int(x + w),int(y + h))\n",
    "        \n",
    "        shape = predictor(gray, rect)\n",
    "        shape = face_utils.shape_to_np(shape)\n",
    "\n",
    "        eye = final_ear(shape)\n",
    "        ear = eye[0]\n",
    "        leftEye = eye[1]\n",
    "        rightEye = eye[2]\n",
    "\n",
    "        #distance = lip_distance(shape)\n",
    "\n",
    "        leftEyeHull = cv2.convexHull(leftEye)\n",
    "        rightEyeHull = cv2.convexHull(rightEye)\n",
    "        cv2.drawContours(frame, [leftEyeHull], -1, (0, 255, 0), 1)\n",
    "        cv2.drawContours(frame, [rightEyeHull], -1, (0, 255, 0), 1)\n",
    "\n",
    "        #lip = shape[48:60]\n",
    "        mouth = shape[49:68]\n",
    "        cv2.drawContours(frame, [mouth], -1, (0, 255, 0), 1)\n",
    "        mouthMAR = mouth_aspect_ratio(mouth)\n",
    "        #cv2.drawContours(frame, [lip], -1, (0, 255, 0), 1)\n",
    "\n",
    "        if ear < EYE_AR_THRESH:\n",
    "            eCounter += 1\n",
    "\n",
    "            if eCounter >= EYE_AR_CONSEC_FRAMES:\n",
    "                if  alarm_status == False:\n",
    "                    alarm_status = True\n",
    "                    cv2.putText(frame, \"Eyes Alert\", (10, 30),cv2.FONT_HERSHEY_SIMPLEX, 0.7, (0, 0, 255), 2)\n",
    "                    t = Thread(target=sound_alarm,args=(\"10-detect_drowsiness_sounds_alarm.wav\",)) \n",
    "                    t.deamon = True\n",
    "                    t.start()\n",
    "                    #cv2.putText(frame, \"DROWSINESS ALERT!\", (10, 30),cv2.FONT_HERSHEY_SIMPLEX, 0.7, (0, 0, 255), 2)\n",
    "\n",
    "        else:\n",
    "            eCounter = 0\n",
    "            alarm_status = False\n",
    "            \n",
    "        if mouthMAR > MOUTH_AR_THRESH:\n",
    "            mCounter+=1\n",
    "\n",
    "            if (mCounter >= MOUTH_AR_CONSEC_FRAMES):\n",
    "                    if alarm_status2 == False and saying == False:\n",
    "                        alarm_status2 = True\n",
    "                        cv2.putText(frame, \"Mouth Alert\", (10, 30),cv2.FONT_HERSHEY_SIMPLEX, 0.7, (0, 0, 255), 2)\n",
    "                        t = Thread(target=sound_alarm,args=(\"10-detect_drowsiness_sounds_alarm.wav\",)) \n",
    "                        t.deamon = True\n",
    "                        t.start()\n",
    "        else:\n",
    "            mCounter=0\n",
    "            alarm_status2 = False\n",
    "    \n",
    "        cv2.putText(frame, \"EAR: {:.2f}\".format(ear), (300, 30),\n",
    "                    cv2.FONT_HERSHEY_SIMPLEX, 0.7, (0, 0, 255), 2)\n",
    "        cv2.putText(frame, \"MAR: {:.2f}\".format(mouthMAR), (300, 60),\n",
    "                    cv2.FONT_HERSHEY_SIMPLEX, 0.7, (0, 0, 255), 2)\n",
    "\n",
    "\n",
    "    cv2.imshow(\"Frame\", frame)\n",
    "    key = cv2.waitKey(1) & 0xFF\n",
    "\n",
    "    if key == ord(\"q\"):\n",
    "        break\n",
    "\n",
    "cv2.destroyAllWindows()\n",
    "vs.stop()"
   ]
  },
  {
   "cell_type": "code",
   "execution_count": null,
   "id": "5857c055",
   "metadata": {},
   "outputs": [],
   "source": []
  }
 ],
 "metadata": {
  "kernelspec": {
   "display_name": "Python 3 (ipykernel)",
   "language": "python",
   "name": "python3"
  },
  "language_info": {
   "codemirror_mode": {
    "name": "ipython",
    "version": 3
   },
   "file_extension": ".py",
   "mimetype": "text/x-python",
   "name": "python",
   "nbconvert_exporter": "python",
   "pygments_lexer": "ipython3",
   "version": "3.7.11"
  }
 },
 "nbformat": 4,
 "nbformat_minor": 5
}
